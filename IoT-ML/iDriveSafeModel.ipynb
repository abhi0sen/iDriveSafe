{
 "cells": [
  {
   "cell_type": "code",
   "execution_count": 53,
   "metadata": {},
   "outputs": [],
   "source": [
    "import numpy as np # linear algebra\n",
    "import pandas as pd # data processing, CSV file I/O (e.g. pd.read_csv)\n",
    "import matplotlib.pyplot as plt # for data visualization purposes\n",
    "import seaborn as sns # for statistical data visualization\n",
    "%matplotlib inline"
   ]
  },
  {
   "cell_type": "code",
   "execution_count": 54,
   "metadata": {},
   "outputs": [
    {
     "data": {
      "text/plain": [
       "<bound method NDFrame.head of        Accident_Index  longitude   latitude  Accident_Severity  Day_of_Week  \\\n",
       "0                   1  78.610393  14.724026                  2            3   \n",
       "1                   2  78.534042  14.762353                  3            4   \n",
       "2                   3  78.470877  14.745606                  3            5   \n",
       "3                   4  78.557994  14.667128                  3            6   \n",
       "4                   5  78.576431  14.703443                  3            2   \n",
       "...               ...        ...        ...                ...          ...   \n",
       "59993           59994  70.144710  24.586263                  3            4   \n",
       "59994           59995  87.530231  25.803174                  3            4   \n",
       "59995           59996  70.546520  25.663263                  3            4   \n",
       "59996           59997  77.030311  25.308850                  3            4   \n",
       "59997           59998  69.094869  21.735663                  3            4   \n",
       "\n",
       "        Time  Speed_limit  Light_Conditions  Weather_Conditions        Date  \n",
       "0      17:42           30                 1                   2  04-01-2018  \n",
       "1      17:36           30                 4                   1  05-01-2018  \n",
       "2      00:15           30                 4                   1  06-01-2018  \n",
       "3      10:35           30                 1                   1  07-01-2018  \n",
       "4      21:13           30                 7                   1  10-01-2018  \n",
       "...      ...          ...               ...                 ...         ...  \n",
       "59993  08:00           30                 1                   1  29-06-2018  \n",
       "59994  08:15           40                 1                   1  29-06-2018  \n",
       "59995  08:28           60                 1                   1  29-06-2018  \n",
       "59996  08:50           60                 1                   1  29-06-2018  \n",
       "59997  12:05           30                 1                   2  29-06-2018  \n",
       "\n",
       "[59998 rows x 10 columns]>"
      ]
     },
     "execution_count": 54,
     "metadata": {},
     "output_type": "execute_result"
    }
   ],
   "source": [
    "data = './dataset/finalRoad.csv'\n",
    "df = pd.read_csv(data)\n",
    "df.head"
   ]
  },
  {
   "cell_type": "code",
   "execution_count": 55,
   "metadata": {},
   "outputs": [
    {
     "name": "stdout",
     "output_type": "stream",
     "text": [
      "<class 'pandas.core.frame.DataFrame'>\n",
      "RangeIndex: 59998 entries, 0 to 59997\n",
      "Data columns (total 10 columns):\n",
      " #   Column              Non-Null Count  Dtype  \n",
      "---  ------              --------------  -----  \n",
      " 0   Accident_Index      59998 non-null  int64  \n",
      " 1   longitude           59998 non-null  float64\n",
      " 2   latitude            59998 non-null  float64\n",
      " 3   Accident_Severity   59998 non-null  int64  \n",
      " 4   Day_of_Week         59998 non-null  int64  \n",
      " 5   Time                59997 non-null  object \n",
      " 6   Speed_limit         59998 non-null  int64  \n",
      " 7   Light_Conditions    59998 non-null  int64  \n",
      " 8   Weather_Conditions  59998 non-null  int64  \n",
      " 9   Date                59998 non-null  object \n",
      "dtypes: float64(2), int64(6), object(2)\n",
      "memory usage: 4.6+ MB\n"
     ]
    }
   ],
   "source": [
    "df.info()"
   ]
  },
  {
   "cell_type": "code",
   "execution_count": 56,
   "metadata": {},
   "outputs": [
    {
     "data": {
      "text/plain": [
       "Accident_Index        0\n",
       "longitude             0\n",
       "latitude              0\n",
       "Accident_Severity     0\n",
       "Day_of_Week           0\n",
       "Time                  1\n",
       "Speed_limit           0\n",
       "Light_Conditions      0\n",
       "Weather_Conditions    0\n",
       "Date                  0\n",
       "dtype: int64"
      ]
     },
     "execution_count": 56,
     "metadata": {},
     "output_type": "execute_result"
    }
   ],
   "source": [
    "df.isnull().sum()"
   ]
  },
  {
   "cell_type": "code",
   "execution_count": 57,
   "metadata": {},
   "outputs": [],
   "source": [
    "X = df.drop(['Accident_Index','Accident_Severity', \"Time\", \"Date\"], axis = 1)\n",
    "y = df['Accident_Severity']"
   ]
  },
  {
   "cell_type": "code",
   "execution_count": 58,
   "metadata": {},
   "outputs": [],
   "source": [
    "from sklearn.model_selection import train_test_split\n",
    "\n",
    "X_train, X_test, y_train, y_test = train_test_split(X, y, test_size = 0.2, random_state = 2)"
   ]
  },
  {
   "cell_type": "code",
   "execution_count": 59,
   "metadata": {},
   "outputs": [
    {
     "name": "stdout",
     "output_type": "stream",
     "text": [
      "Train Score:  88.53\n",
      "Test Score:  82.25\n"
     ]
    }
   ],
   "source": [
    "from sklearn.neighbors import KNeighborsClassifier\n",
    "\n",
    "knn = KNeighborsClassifier(n_neighbors = 3)\n",
    "knn.fit(X_train, y_train)\n",
    "Y_pred = knn.predict(X_test)\n",
    "acc_knn = round(knn.score(X_train, y_train) * 100, 2)\n",
    "test_acc_knn = round(knn.score(X_test, y_test) * 100, 2)\n",
    "# acc_knn\n",
    "print('Train Score: ', acc_knn)  \n",
    "print('Test Score: ', test_acc_knn) "
   ]
  },
  {
   "cell_type": "code",
   "execution_count": 60,
   "metadata": {},
   "outputs": [],
   "source": [
    "import urllib.request\n",
    "import json\n",
    "import time"
   ]
  },
  {
   "cell_type": "code",
   "execution_count": 61,
   "metadata": {},
   "outputs": [],
   "source": [
    "channel_ID = \"2061500\"\n",
    "\n",
    "mqtt_host = \"mqtt3.thingspeak.com\"\n",
    "\n",
    "mqtt_client_ID = \"PCEfJSM9Cwo3BSYULiwnNCw\"\n",
    "mqtt_username  = \"PCEfJSM9Cwo3BSYULiwnNCw\"\n",
    "mqtt_password  = \"OlAVymnEWY4mTMtfc5X5p37F\"\n",
    "\n",
    "t_transport = \"websockets\"\n",
    "t_port = 80\n",
    "\n",
    "topic = \"channels/\" + \"2061500\" + \"/subscribe\""
   ]
  },
  {
   "cell_type": "code",
   "execution_count": 62,
   "metadata": {},
   "outputs": [],
   "source": [
    "READ_API_KEY='CG50D1N7SZQ4ETMZ'\n",
    "CHANNEL_ID= '2061500'\n",
    "# global TS"
   ]
  },
  {
   "cell_type": "code",
   "execution_count": 74,
   "metadata": {},
   "outputs": [],
   "source": [
    "# for i in range(10):\n",
    "TS = urllib.request.urlopen(\"http://api.thingspeak.com/channels/%s/feeds/last.json?api_key=%s\" %(CHANNEL_ID,READ_API_KEY))\n",
    "response = TS.read()\n",
    "data=json.loads(response)\n"
   ]
  },
  {
   "cell_type": "code",
   "execution_count": 64,
   "metadata": {},
   "outputs": [
    {
     "data": {
      "text/plain": [
       "5"
      ]
     },
     "execution_count": 64,
     "metadata": {},
     "output_type": "execute_result"
    }
   ],
   "source": [
    "from datetime import datetime\n",
    "a = data['created_at'][:10]\n",
    "# print (a)\n",
    "date_obj = datetime.strptime(a, '%Y-%m-%d').date()\n",
    "day = date_obj.weekday()\n",
    "day"
   ]
  },
  {
   "cell_type": "code",
   "execution_count": 69,
   "metadata": {},
   "outputs": [
    {
     "data": {
      "text/html": [
       "<div>\n",
       "<style scoped>\n",
       "    .dataframe tbody tr th:only-of-type {\n",
       "        vertical-align: middle;\n",
       "    }\n",
       "\n",
       "    .dataframe tbody tr th {\n",
       "        vertical-align: top;\n",
       "    }\n",
       "\n",
       "    .dataframe thead th {\n",
       "        text-align: right;\n",
       "    }\n",
       "</style>\n",
       "<table border=\"1\" class=\"dataframe\">\n",
       "  <thead>\n",
       "    <tr style=\"text-align: right;\">\n",
       "      <th></th>\n",
       "      <th>longitude</th>\n",
       "      <th>latitude</th>\n",
       "      <th>Day_of_Week</th>\n",
       "      <th>Speed_limit</th>\n",
       "      <th>Light_Conditions</th>\n",
       "      <th>Weather_Conditions</th>\n",
       "    </tr>\n",
       "  </thead>\n",
       "  <tbody>\n",
       "    <tr>\n",
       "      <th>10327</th>\n",
       "      <td>87.470136</td>\n",
       "      <td>25.792640</td>\n",
       "      <td>6</td>\n",
       "      <td>30</td>\n",
       "      <td>1</td>\n",
       "      <td>1</td>\n",
       "    </tr>\n",
       "    <tr>\n",
       "      <th>11900</th>\n",
       "      <td>82.151626</td>\n",
       "      <td>22.088755</td>\n",
       "      <td>6</td>\n",
       "      <td>30</td>\n",
       "      <td>4</td>\n",
       "      <td>1</td>\n",
       "    </tr>\n",
       "    <tr>\n",
       "      <th>41557</th>\n",
       "      <td>77.198831</td>\n",
       "      <td>28.541666</td>\n",
       "      <td>7</td>\n",
       "      <td>30</td>\n",
       "      <td>1</td>\n",
       "      <td>1</td>\n",
       "    </tr>\n",
       "    <tr>\n",
       "      <th>49312</th>\n",
       "      <td>73.802769</td>\n",
       "      <td>18.634977</td>\n",
       "      <td>5</td>\n",
       "      <td>30</td>\n",
       "      <td>1</td>\n",
       "      <td>1</td>\n",
       "    </tr>\n",
       "    <tr>\n",
       "      <th>28440</th>\n",
       "      <td>75.888848</td>\n",
       "      <td>22.722887</td>\n",
       "      <td>3</td>\n",
       "      <td>30</td>\n",
       "      <td>1</td>\n",
       "      <td>1</td>\n",
       "    </tr>\n",
       "    <tr>\n",
       "      <th>...</th>\n",
       "      <td>...</td>\n",
       "      <td>...</td>\n",
       "      <td>...</td>\n",
       "      <td>...</td>\n",
       "      <td>...</td>\n",
       "      <td>...</td>\n",
       "    </tr>\n",
       "    <tr>\n",
       "      <th>1237</th>\n",
       "      <td>78.608020</td>\n",
       "      <td>14.772135</td>\n",
       "      <td>2</td>\n",
       "      <td>30</td>\n",
       "      <td>1</td>\n",
       "      <td>1</td>\n",
       "    </tr>\n",
       "    <tr>\n",
       "      <th>48352</th>\n",
       "      <td>73.903477</td>\n",
       "      <td>18.577422</td>\n",
       "      <td>3</td>\n",
       "      <td>70</td>\n",
       "      <td>1</td>\n",
       "      <td>2</td>\n",
       "    </tr>\n",
       "    <tr>\n",
       "      <th>7208</th>\n",
       "      <td>94.217934</td>\n",
       "      <td>26.741343</td>\n",
       "      <td>6</td>\n",
       "      <td>30</td>\n",
       "      <td>4</td>\n",
       "      <td>2</td>\n",
       "    </tr>\n",
       "    <tr>\n",
       "      <th>59684</th>\n",
       "      <td>83.819224</td>\n",
       "      <td>20.929772</td>\n",
       "      <td>6</td>\n",
       "      <td>60</td>\n",
       "      <td>1</td>\n",
       "      <td>2</td>\n",
       "    </tr>\n",
       "    <tr>\n",
       "      <th>6632</th>\n",
       "      <td>94.197915</td>\n",
       "      <td>26.720440</td>\n",
       "      <td>6</td>\n",
       "      <td>30</td>\n",
       "      <td>1</td>\n",
       "      <td>1</td>\n",
       "    </tr>\n",
       "  </tbody>\n",
       "</table>\n",
       "<p>12000 rows × 6 columns</p>\n",
       "</div>"
      ],
      "text/plain": [
       "       longitude   latitude  Day_of_Week  Speed_limit  Light_Conditions  \\\n",
       "10327  87.470136  25.792640            6           30                 1   \n",
       "11900  82.151626  22.088755            6           30                 4   \n",
       "41557  77.198831  28.541666            7           30                 1   \n",
       "49312  73.802769  18.634977            5           30                 1   \n",
       "28440  75.888848  22.722887            3           30                 1   \n",
       "...          ...        ...          ...          ...               ...   \n",
       "1237   78.608020  14.772135            2           30                 1   \n",
       "48352  73.903477  18.577422            3           70                 1   \n",
       "7208   94.217934  26.741343            6           30                 4   \n",
       "59684  83.819224  20.929772            6           60                 1   \n",
       "6632   94.197915  26.720440            6           30                 1   \n",
       "\n",
       "       Weather_Conditions  \n",
       "10327                   1  \n",
       "11900                   1  \n",
       "41557                   1  \n",
       "49312                   1  \n",
       "28440                   1  \n",
       "...                   ...  \n",
       "1237                    1  \n",
       "48352                   2  \n",
       "7208                    2  \n",
       "59684                   2  \n",
       "6632                    1  \n",
       "\n",
       "[12000 rows x 6 columns]"
      ]
     },
     "execution_count": 69,
     "metadata": {},
     "output_type": "execute_result"
    }
   ],
   "source": [
    "X_test"
   ]
  },
  {
   "cell_type": "code",
   "execution_count": null,
   "metadata": {},
   "outputs": [],
   "source": [
    "accident = []\n",
    "accident.append(data[\"feild3\"])\n",
    "accident.append(data[\"feild4\"])\n",
    "accident.append(day)\n",
    "light = data[\"feild2\"]\n",
    "if light >1000:\n",
    "    accident.append(7)\n",
    "elif light < 50:\n",
    "    accident.append(1)\n",
    "else:\n",
    "    accident.append(4)\n",
    "\n",
    "if data[\"field2\"] >500 and data[\"field2\"]<1000:\n",
    "    accident.append(7)\n",
    "elif data['field6'] == 1 and data[\"field5\"]<=0:\n",
    "    accident.append(8)\n",
    "elif data['feil6'] == 0 and data[\"field5\"]<=0:\n",
    "    accident.append(3)\n",
    "elif data['field6'] == 1 and data[\"field5\"]>0 and data[\"field5\"]<20:\n",
    "    accident.append(6)\n",
    "elif data[\"field5\"]>10 and data[\"field5\"]<35:\n",
    "    accident.append(5)\n",
    "elif data['field5'] == 1:\n",
    "    accident.append(9)\n",
    "else:\n",
    "    accident.append(1)"
   ]
  },
  {
   "cell_type": "code",
   "execution_count": 75,
   "metadata": {},
   "outputs": [
    {
     "data": {
      "text/plain": [
       "{'created_at': '2023-03-12T07:54:51Z',\n",
       " 'entry_id': 307,\n",
       " 'field1': None,\n",
       " 'field2': '73',\n",
       " 'field3': None,\n",
       " 'field4': None,\n",
       " 'field5': None,\n",
       " 'field6': None}"
      ]
     },
     "execution_count": 75,
     "metadata": {},
     "output_type": "execute_result"
    }
   ],
   "source": [
    "data"
   ]
  },
  {
   "cell_type": "code",
   "execution_count": 66,
   "metadata": {},
   "outputs": [],
   "source": [
    "TS.close()"
   ]
  },
  {
   "cell_type": "code",
   "execution_count": 67,
   "metadata": {},
   "outputs": [
    {
     "data": {
      "text/html": [
       "<div>\n",
       "<style scoped>\n",
       "    .dataframe tbody tr th:only-of-type {\n",
       "        vertical-align: middle;\n",
       "    }\n",
       "\n",
       "    .dataframe tbody tr th {\n",
       "        vertical-align: top;\n",
       "    }\n",
       "\n",
       "    .dataframe thead th {\n",
       "        text-align: right;\n",
       "    }\n",
       "</style>\n",
       "<table border=\"1\" class=\"dataframe\">\n",
       "  <thead>\n",
       "    <tr style=\"text-align: right;\">\n",
       "      <th></th>\n",
       "      <th>longitude</th>\n",
       "      <th>latitude</th>\n",
       "      <th>Day_of_Week</th>\n",
       "      <th>Speed_limit</th>\n",
       "      <th>Light_Conditions</th>\n",
       "      <th>Weather_Conditions</th>\n",
       "    </tr>\n",
       "  </thead>\n",
       "  <tbody>\n",
       "    <tr>\n",
       "      <th>10327</th>\n",
       "      <td>87.470136</td>\n",
       "      <td>25.792640</td>\n",
       "      <td>6</td>\n",
       "      <td>30</td>\n",
       "      <td>1</td>\n",
       "      <td>1</td>\n",
       "    </tr>\n",
       "    <tr>\n",
       "      <th>11900</th>\n",
       "      <td>82.151626</td>\n",
       "      <td>22.088755</td>\n",
       "      <td>6</td>\n",
       "      <td>30</td>\n",
       "      <td>4</td>\n",
       "      <td>1</td>\n",
       "    </tr>\n",
       "    <tr>\n",
       "      <th>41557</th>\n",
       "      <td>77.198831</td>\n",
       "      <td>28.541666</td>\n",
       "      <td>7</td>\n",
       "      <td>30</td>\n",
       "      <td>1</td>\n",
       "      <td>1</td>\n",
       "    </tr>\n",
       "    <tr>\n",
       "      <th>49312</th>\n",
       "      <td>73.802769</td>\n",
       "      <td>18.634977</td>\n",
       "      <td>5</td>\n",
       "      <td>30</td>\n",
       "      <td>1</td>\n",
       "      <td>1</td>\n",
       "    </tr>\n",
       "    <tr>\n",
       "      <th>28440</th>\n",
       "      <td>75.888848</td>\n",
       "      <td>22.722887</td>\n",
       "      <td>3</td>\n",
       "      <td>30</td>\n",
       "      <td>1</td>\n",
       "      <td>1</td>\n",
       "    </tr>\n",
       "    <tr>\n",
       "      <th>...</th>\n",
       "      <td>...</td>\n",
       "      <td>...</td>\n",
       "      <td>...</td>\n",
       "      <td>...</td>\n",
       "      <td>...</td>\n",
       "      <td>...</td>\n",
       "    </tr>\n",
       "    <tr>\n",
       "      <th>1237</th>\n",
       "      <td>78.608020</td>\n",
       "      <td>14.772135</td>\n",
       "      <td>2</td>\n",
       "      <td>30</td>\n",
       "      <td>1</td>\n",
       "      <td>1</td>\n",
       "    </tr>\n",
       "    <tr>\n",
       "      <th>48352</th>\n",
       "      <td>73.903477</td>\n",
       "      <td>18.577422</td>\n",
       "      <td>3</td>\n",
       "      <td>70</td>\n",
       "      <td>1</td>\n",
       "      <td>2</td>\n",
       "    </tr>\n",
       "    <tr>\n",
       "      <th>7208</th>\n",
       "      <td>94.217934</td>\n",
       "      <td>26.741343</td>\n",
       "      <td>6</td>\n",
       "      <td>30</td>\n",
       "      <td>4</td>\n",
       "      <td>2</td>\n",
       "    </tr>\n",
       "    <tr>\n",
       "      <th>59684</th>\n",
       "      <td>83.819224</td>\n",
       "      <td>20.929772</td>\n",
       "      <td>6</td>\n",
       "      <td>60</td>\n",
       "      <td>1</td>\n",
       "      <td>2</td>\n",
       "    </tr>\n",
       "    <tr>\n",
       "      <th>6632</th>\n",
       "      <td>94.197915</td>\n",
       "      <td>26.720440</td>\n",
       "      <td>6</td>\n",
       "      <td>30</td>\n",
       "      <td>1</td>\n",
       "      <td>1</td>\n",
       "    </tr>\n",
       "  </tbody>\n",
       "</table>\n",
       "<p>12000 rows × 6 columns</p>\n",
       "</div>"
      ],
      "text/plain": [
       "       longitude   latitude  Day_of_Week  Speed_limit  Light_Conditions  \\\n",
       "10327  87.470136  25.792640            6           30                 1   \n",
       "11900  82.151626  22.088755            6           30                 4   \n",
       "41557  77.198831  28.541666            7           30                 1   \n",
       "49312  73.802769  18.634977            5           30                 1   \n",
       "28440  75.888848  22.722887            3           30                 1   \n",
       "...          ...        ...          ...          ...               ...   \n",
       "1237   78.608020  14.772135            2           30                 1   \n",
       "48352  73.903477  18.577422            3           70                 1   \n",
       "7208   94.217934  26.741343            6           30                 4   \n",
       "59684  83.819224  20.929772            6           60                 1   \n",
       "6632   94.197915  26.720440            6           30                 1   \n",
       "\n",
       "       Weather_Conditions  \n",
       "10327                   1  \n",
       "11900                   1  \n",
       "41557                   1  \n",
       "49312                   1  \n",
       "28440                   1  \n",
       "...                   ...  \n",
       "1237                    1  \n",
       "48352                   2  \n",
       "7208                    2  \n",
       "59684                   2  \n",
       "6632                    1  \n",
       "\n",
       "[12000 rows x 6 columns]"
      ]
     },
     "execution_count": 67,
     "metadata": {},
     "output_type": "execute_result"
    }
   ],
   "source": [
    "X_test"
   ]
  }
 ],
 "metadata": {
  "kernelspec": {
   "display_name": "Python 3",
   "language": "python",
   "name": "python3"
  },
  "language_info": {
   "codemirror_mode": {
    "name": "ipython",
    "version": 3
   },
   "file_extension": ".py",
   "mimetype": "text/x-python",
   "name": "python",
   "nbconvert_exporter": "python",
   "pygments_lexer": "ipython3",
   "version": "3.9.13"
  },
  "orig_nbformat": 4
 },
 "nbformat": 4,
 "nbformat_minor": 2
}
