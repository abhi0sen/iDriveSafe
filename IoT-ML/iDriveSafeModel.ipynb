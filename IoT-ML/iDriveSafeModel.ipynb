{
 "cells": [
  {
   "cell_type": "code",
   "execution_count": 24,
   "metadata": {},
   "outputs": [],
   "source": [
    "import numpy as np # linear algebra\n",
    "import pandas as pd # data processing, CSV file I/O (e.g. pd.read_csv)\n",
    "import matplotlib.pyplot as plt # for data visualization purposes\n",
    "import seaborn as sns # for statistical data visualization\n",
    "%matplotlib inline"
   ]
  },
  {
   "cell_type": "code",
   "execution_count": 25,
   "metadata": {},
   "outputs": [
    {
     "data": {
      "text/plain": [
       "<bound method NDFrame.head of        Accident_Index  longitude   latitude  Accident_Severity  Day_of_Week  \\\n",
       "0                   1  78.710393  14.724026                  2            3   \n",
       "1                   2  78.534042  14.772353                  3            4   \n",
       "2                   3  78.470877  14.745707                  3            5   \n",
       "3                   4  78.557994  14.777128                  3            7   \n",
       "4                   5  78.577431  14.703443                  3            2   \n",
       "...               ...        ...        ...                ...          ...   \n",
       "59993           59994  70.144710  24.587273                  3            4   \n",
       "59994           59995  87.530231  25.803174                  3            4   \n",
       "59995           59997  70.547520  25.773273                  3            4   \n",
       "59996           59997  77.030311  25.308850                  3            4   \n",
       "59997           59998  79.094879  21.735773                  3            4   \n",
       "\n",
       "        Time  Speed_limit  Light_Conditions  Weather_Conditions        Date  \n",
       "0      17:42           30                 1                   2  04-01-2018  \n",
       "1      17:37           30                 4                   1  05-01-2018  \n",
       "2      00:15           30                 4                   1  07-01-2018  \n",
       "3      10:35           30                 1                   1  07-01-2018  \n",
       "4      21:13           30                 7                   1  10-01-2018  \n",
       "...      ...          ...               ...                 ...         ...  \n",
       "59993  08:00           30                 1                   1  29-07-2018  \n",
       "59994  08:15           40                 1                   1  29-07-2018  \n",
       "59995  08:28           70                 1                   1  29-07-2018  \n",
       "59996  08:50           70                 1                   1  29-07-2018  \n",
       "59997  12:05           30                 1                   2  29-07-2018  \n",
       "\n",
       "[59998 rows x 10 columns]>"
      ]
     },
     "execution_count": 25,
     "metadata": {},
     "output_type": "execute_result"
    }
   ],
   "source": [
    "data = './dataset/finalRoad.csv'\n",
    "df = pd.read_csv(data)\n",
    "df.head"
   ]
  },
  {
   "cell_type": "code",
   "execution_count": 26,
   "metadata": {},
   "outputs": [
    {
     "name": "stdout",
     "output_type": "stream",
     "text": [
      "<class 'pandas.core.frame.DataFrame'>\n",
      "RangeIndex: 59998 entries, 0 to 59997\n",
      "Data columns (total 10 columns):\n",
      " #   Column              Non-Null Count  Dtype  \n",
      "---  ------              --------------  -----  \n",
      " 0   Accident_Index      59998 non-null  int64  \n",
      " 1   longitude           59998 non-null  float64\n",
      " 2   latitude            59998 non-null  float64\n",
      " 3   Accident_Severity   59998 non-null  int64  \n",
      " 4   Day_of_Week         59998 non-null  int64  \n",
      " 5   Time                59997 non-null  object \n",
      " 6   Speed_limit         59998 non-null  int64  \n",
      " 7   Light_Conditions    59998 non-null  int64  \n",
      " 8   Weather_Conditions  59998 non-null  int64  \n",
      " 9   Date                59998 non-null  object \n",
      "dtypes: float64(2), int64(6), object(2)\n",
      "memory usage: 4.6+ MB\n"
     ]
    }
   ],
   "source": [
    "df.info()"
   ]
  },
  {
   "cell_type": "code",
   "execution_count": 27,
   "metadata": {},
   "outputs": [
    {
     "data": {
      "text/plain": [
       "Accident_Index        0\n",
       "longitude             0\n",
       "latitude              0\n",
       "Accident_Severity     0\n",
       "Day_of_Week           0\n",
       "Time                  1\n",
       "Speed_limit           0\n",
       "Light_Conditions      0\n",
       "Weather_Conditions    0\n",
       "Date                  0\n",
       "dtype: int64"
      ]
     },
     "execution_count": 27,
     "metadata": {},
     "output_type": "execute_result"
    }
   ],
   "source": [
    "df.isnull().sum()"
   ]
  },
  {
   "cell_type": "code",
   "execution_count": 28,
   "metadata": {},
   "outputs": [],
   "source": [
    "X = df.drop(['Accident_Index','Accident_Severity', \"Time\", \"Date\"], axis = 1)\n",
    "y = df['Accident_Severity']"
   ]
  },
  {
   "cell_type": "code",
   "execution_count": 29,
   "metadata": {},
   "outputs": [],
   "source": [
    "from sklearn.model_selection import train_test_split\n",
    "X_train, X_test, y_train, y_test = train_test_split(X, y, test_size = 0.2, random_state = 2)"
   ]
  },
  {
   "cell_type": "code",
   "execution_count": 30,
   "metadata": {},
   "outputs": [
    {
     "name": "stdout",
     "output_type": "stream",
     "text": [
      "Train Score:  88.34\n",
      "Test Score:  82.56\n"
     ]
    }
   ],
   "source": [
    "from sklearn.neighbors import KNeighborsClassifier\n",
    "\n",
    "knn = KNeighborsClassifier(n_neighbors = 3)\n",
    "knn.fit(X_train, y_train)\n",
    "Y_pred = knn.predict(X_test)\n",
    "acc_knn = round(knn.score(X_train, y_train) * 100, 2)\n",
    "test_acc_knn = round(knn.score(X_test, y_test) * 100, 2)\n",
    "# acc_knn\n",
    "print('Train Score: ', acc_knn)  \n",
    "print('Test Score: ', test_acc_knn) "
   ]
  },
  {
   "cell_type": "code",
   "execution_count": 31,
   "metadata": {},
   "outputs": [],
   "source": [
    "import urllib.request\n",
    "import json\n",
    "import time\n",
    "from datetime import datetime\n",
    "import paho.mqtt.publish as publish"
   ]
  },
  {
   "cell_type": "code",
   "execution_count": 32,
   "metadata": {},
   "outputs": [],
   "source": [
    "channel_ID = \"2061500\"\n",
    "\n",
    "mqtt_host = \"mqtt3.thingspeak.com\"\n",
    "\n",
    "mqtt_client_ID = \"PCEfJSM9Cwo3BSYULiwnNCw\"\n",
    "mqtt_username  = \"PCEfJSM9Cwo3BSYULiwnNCw\"\n",
    "mqtt_password  = \"OlAVymnEWY4mTMtfc5X5p37F\"\n",
    "\n",
    "t_transport = \"websockets\"\n",
    "t_port = 80\n",
    "\n",
    "topic = \"channels/\" + \"2061500\" + \"/subscribe\""
   ]
  },
  {
   "cell_type": "code",
   "execution_count": 33,
   "metadata": {},
   "outputs": [],
   "source": [
    "READ_API_KEY='CG50D1N7SZQ4ETMZ'\n",
    "CHANNEL_ID= '2061500'\n",
    "# global TS"
   ]
  },
  {
   "cell_type": "code",
   "execution_count": 34,
   "metadata": {},
   "outputs": [
    {
     "name": "stderr",
     "output_type": "stream",
     "text": [
      "c:\\Python39\\lib\\site-packages\\sklearn\\base.py:409: UserWarning: X does not have valid feature names, but KNeighborsClassifier was fitted with feature names\n",
      "  warnings.warn(\n"
     ]
    },
    {
     "name": "stdout",
     "output_type": "stream",
     "text": [
      "3\n"
     ]
    },
    {
     "name": "stderr",
     "output_type": "stream",
     "text": [
      "c:\\Python39\\lib\\site-packages\\sklearn\\base.py:409: UserWarning: X does not have valid feature names, but KNeighborsClassifier was fitted with feature names\n",
      "  warnings.warn(\n"
     ]
    },
    {
     "name": "stdout",
     "output_type": "stream",
     "text": [
      "3\n"
     ]
    },
    {
     "name": "stderr",
     "output_type": "stream",
     "text": [
      "c:\\Python39\\lib\\site-packages\\sklearn\\base.py:409: UserWarning: X does not have valid feature names, but KNeighborsClassifier was fitted with feature names\n",
      "  warnings.warn(\n"
     ]
    },
    {
     "name": "stdout",
     "output_type": "stream",
     "text": [
      "3\n"
     ]
    },
    {
     "name": "stderr",
     "output_type": "stream",
     "text": [
      "c:\\Python39\\lib\\site-packages\\sklearn\\base.py:409: UserWarning: X does not have valid feature names, but KNeighborsClassifier was fitted with feature names\n",
      "  warnings.warn(\n"
     ]
    },
    {
     "name": "stdout",
     "output_type": "stream",
     "text": [
      "3\n"
     ]
    },
    {
     "name": "stderr",
     "output_type": "stream",
     "text": [
      "c:\\Python39\\lib\\site-packages\\sklearn\\base.py:409: UserWarning: X does not have valid feature names, but KNeighborsClassifier was fitted with feature names\n",
      "  warnings.warn(\n"
     ]
    },
    {
     "name": "stdout",
     "output_type": "stream",
     "text": [
      "3\n"
     ]
    },
    {
     "name": "stderr",
     "output_type": "stream",
     "text": [
      "c:\\Python39\\lib\\site-packages\\sklearn\\base.py:409: UserWarning: X does not have valid feature names, but KNeighborsClassifier was fitted with feature names\n",
      "  warnings.warn(\n"
     ]
    },
    {
     "name": "stdout",
     "output_type": "stream",
     "text": [
      "3\n",
      "\n",
      "\n",
      "THANKS, VISIT AGAIN!!\n"
     ]
    }
   ],
   "source": [
    "try:\n",
    "    # for i in range(10):\n",
    "    while True:\n",
    "        url = \"http://api.thingspeak.com/channels/{}/feeds/last.json?api_key={}&fields=1,2,3\".format(CHANNEL_ID, READ_API_KEY)\n",
    "        response = urllib.request.urlopen(url)\n",
    "        data = json.loads(response.read())\n",
    "        \n",
    "        url = \"http://api.thingspeak.com/channels/{}/fields/1/last.json?api_key={}\".format(CHANNEL_ID, READ_API_KEY)\n",
    "        response = urllib.request.urlopen(url)\n",
    "        data_field1 = json.loads(response.read())\n",
    "\n",
    "        # Get data for field 2\n",
    "        url = \"http://api.thingspeak.com/channels/{}/fields/2/last.json?api_key={}\".format(CHANNEL_ID, READ_API_KEY)\n",
    "        response = urllib.request.urlopen(url)\n",
    "        data_field2 = json.loads(response.read())\n",
    "\n",
    "        # Get data for field 3\n",
    "        url = \"http://api.thingspeak.com/channels/{}/fields/3/last.json?api_key={}\".format(CHANNEL_ID, READ_API_KEY)\n",
    "        response = urllib.request.urlopen(url)\n",
    "        data_field3 = json.loads(response.read())\n",
    "\n",
    "        # Get data for field 1\n",
    "        url = \"http://api.thingspeak.com/channels/{}/fields/4/last.json?api_key={}\".format(CHANNEL_ID, READ_API_KEY)\n",
    "        response = urllib.request.urlopen(url)\n",
    "        data_field4 = json.loads(response.read())\n",
    "\n",
    "        # Get data for field 2\n",
    "        url = \"http://api.thingspeak.com/channels/{}/fields/5/last.json?api_key={}\".format(CHANNEL_ID, READ_API_KEY)\n",
    "        response = urllib.request.urlopen(url)\n",
    "        data_field5 = json.loads(response.read())\n",
    "\n",
    "        # Get data for field 3\n",
    "        url = \"http://api.thingspeak.com/channels/{}/fields/6/last.json?api_key={}\".format(CHANNEL_ID, READ_API_KEY)\n",
    "        response = urllib.request.urlopen(url)\n",
    "        data_field6 = json.loads(response.read())\n",
    "        \n",
    "        a = data['created_at'][:10]\n",
    "    # print (a)\n",
    "        date_obj = datetime.strptime(a, '%Y-%m-%d').date()\n",
    "        day = date_obj.isoweekday()\n",
    "        day\n",
    "        \n",
    "        \n",
    "        accident = []\n",
    "        accident.append(float(data_field3[\"field3\"]))\n",
    "        accident.append(float(data_field4[\"field4\"]))\n",
    "        accident.append(day)\n",
    "        accident.append(float(data_field1[\"field1\"]))\n",
    "        light = int(data_field2[\"field2\"])\n",
    "        if light >1000:\n",
    "            accident.append(7)\n",
    "        elif light < 50:\n",
    "            accident.append(1)\n",
    "        else:\n",
    "            accident.append(4)\n",
    "\n",
    "        if int(data_field2[\"field2\"]) >500 and float(data_field2[\"field2\"])<1000:\n",
    "            accident.append(7)\n",
    "        elif int(data_field6['field6']) == 0 and float(data_field5[\"field5\"])<=0:\n",
    "            accident.append(8)\n",
    "        elif data_field6['field6'] == 1 and float(data_field5[\"field5\"])<=0:\n",
    "            accident.append(3)\n",
    "        elif int(data_field6['field6']) == 0 and float(data_field5[\"field5\"])>0 and float(data_field5[\"field5\"])<20:\n",
    "            accident.append(6)\n",
    "        elif float(data_field5[\"field5\"])>10 and float(data_field5[\"field5\"])<35:\n",
    "            accident.append(5)\n",
    "        elif float(data_field5['field5']) == 0:\n",
    "            accident.append(9)\n",
    "        else:\n",
    "            accident.append(1)\n",
    "            \n",
    "        accident = np.array(accident)\n",
    "        a = knn.predict(accident.reshape(1, -1))\n",
    "        print (a[0])\n",
    "\n",
    "        channel_ID = \"2061500\"\n",
    "\n",
    "        mqtt_host = \"mqtt3.thingspeak.com\"\n",
    "\n",
    "        # Your MQTT credentials for the device\n",
    "        mqtt_client_ID = \"PCEfJSM9Cwo3BSYULiwnNCw\"\n",
    "        mqtt_username  = \"PCEfJSM9Cwo3BSYULiwnNCw\"\n",
    "        mqtt_password  = \"OlAVymnEWY4mTMtfc5X5p37F\"\n",
    "\n",
    "        t_transport = \"websockets\"\n",
    "        t_port = 80\n",
    "\n",
    "        topic = \"channels/\" + \"2061500\" + \"/publish\"\n",
    "        payload = \"field7=\" + str(a[0])\n",
    "        try:\n",
    "            publish.single(topic, payload, hostname=mqtt_host, transport=t_transport, port=t_port, client_id=mqtt_client_ID, auth={'username':mqtt_username,'password':mqtt_password})\n",
    "\n",
    "        except Exception as e:\n",
    "            print (e) \n",
    "except:\n",
    "    print(\"\\n\\nTHANKS, VISIT AGAIN!!\")"
   ]
  }
 ],
 "metadata": {
  "kernelspec": {
   "display_name": "Python 3",
   "language": "python",
   "name": "python3"
  },
  "language_info": {
   "codemirror_mode": {
    "name": "ipython",
    "version": 3
   },
   "file_extension": ".py",
   "mimetype": "text/x-python",
   "name": "python",
   "nbconvert_exporter": "python",
   "pygments_lexer": "ipython3",
   "version": "3.9.13"
  },
  "orig_nbformat": 4
 },
 "nbformat": 4,
 "nbformat_minor": 2
}
